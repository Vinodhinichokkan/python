{
 "cells": [
  {
   "cell_type": "code",
   "execution_count": 8,
   "id": "1f894f6b-5544-43fb-b26e-e81e521414d4",
   "metadata": {},
   "outputs": [
    {
     "name": "stdout",
     "output_type": "stream",
     "text": [
      "Dad's phone\n",
      "Mom's sweet\n",
      "Son's laptop\n"
     ]
    }
   ],
   "source": [
    "#multiple inheritance....\n",
    "\n",
    "class dad:\n",
    "    def phone(self):\n",
    "        print(\"Dad's phone\")\n",
    "class mom:\n",
    "    def sweet(self):\n",
    "        print(\"Mom's sweet\")\n",
    "class son(dad,mom):\n",
    "    def laptop(self):\n",
    "        print(\"Son's laptop\")\n",
    "c1=son()\n",
    "c1.phone()\n",
    "c1.sweet()\n",
    "c1.laptop()\n"
   ]
  },
  {
   "cell_type": "code",
   "execution_count": 9,
   "id": "37a4a58d-73d7-49fe-adc6-d2be28084d10",
   "metadata": {},
   "outputs": [
    {
     "name": "stdout",
     "output_type": "stream",
     "text": [
      "Parent1 class m1 - instance method\n",
      "Parent2 class m2 - instance method\n",
      "Child class m3 - instance method\n"
     ]
    }
   ],
   "source": [
    "\n",
    "#multiple inheritance....\n",
    "\n",
    "class Parent1:\n",
    "    def m1(self):\n",
    "        print('Parent1 class m1 - instance method') \n",
    "\n",
    "class Parent2:\n",
    "    def m2(self):\n",
    "        print('Parent2 class m2 - instance method') \n",
    " \n",
    "\n",
    "class Child(Parent1,Parent2):\n",
    "    def m3(self):\n",
    "        print('Child class m3 - instance method') \n",
    "\n",
    "\n",
    "c1=Child()\n",
    "c1.m1()\n",
    "c1.m2()\n",
    "c1.m3()"
   ]
  },
  {
   "cell_type": "code",
   "execution_count": 11,
   "id": "ec67d837-5d90-44d9-a1a2-9fc503f57b43",
   "metadata": {},
   "outputs": [
    {
     "name": "stdout",
     "output_type": "stream",
     "text": [
      "Parent class m1 - instance method\n",
      "Parent class m2 - instance method\n",
      "Child class m3 - instance method\n"
     ]
    }
   ],
   "source": [
    "# single inheritance...\n",
    "\n",
    "class Parent:\n",
    "    def m1(self):\n",
    "        print('Parent class m1 - instance method')\n",
    "    def m2(self):\n",
    "        print('Parent class m2 - instance method')\n",
    "\n",
    "\n",
    "class Child(Parent):\n",
    "   def m3(self):\n",
    "        print('Child class m3 - instance method')\n",
    "\n",
    "\n",
    "\n",
    "\n",
    "c1=Child()\n",
    "c1.m1()\n",
    "c1.m2()\n",
    "c1.m3()\n"
   ]
  },
  {
   "cell_type": "code",
   "execution_count": 13,
   "id": "492d26e9-fff8-4758-a608-2ac2e63c835c",
   "metadata": {},
   "outputs": [
    {
     "name": "stdout",
     "output_type": "stream",
     "text": [
      "it's raining\n",
      "It's your favourite recipe\n",
      "sitara dances well\n"
     ]
    }
   ],
   "source": [
    "# single inheritance....\n",
    "\n",
    "class father():\n",
    "    def rain(self):\n",
    "        print(\"it's raining\")\n",
    "    def cook(self):\n",
    "        print(\"It's your favourite recipe\")\n",
    "\n",
    "class daughter(father):\n",
    "    def dance(self):\n",
    "        print(\"sitara dances well\")\n",
    "\n",
    "m1=daughter()\n",
    "m1.rain()\n",
    "m1.cook()\n",
    "m1.dance()\n",
    "\n",
    "    "
   ]
  },
  {
   "cell_type": "code",
   "execution_count": null,
   "id": "289aee3d-04d3-4858-8411-41b874a37c9e",
   "metadata": {},
   "outputs": [],
   "source": []
  }
 ],
 "metadata": {
  "kernelspec": {
   "display_name": "Python 3 (ipykernel)",
   "language": "python",
   "name": "python3"
  },
  "language_info": {
   "codemirror_mode": {
    "name": "ipython",
    "version": 3
   },
   "file_extension": ".py",
   "mimetype": "text/x-python",
   "name": "python",
   "nbconvert_exporter": "python",
   "pygments_lexer": "ipython3",
   "version": "3.12.2"
  }
 },
 "nbformat": 4,
 "nbformat_minor": 5
}
