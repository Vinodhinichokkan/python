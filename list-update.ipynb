{
 "cells": [
  {
   "cell_type": "code",
   "execution_count": 2,
   "id": "71723be8-bf29-47cd-9c1b-1f3a453b63c9",
   "metadata": {},
   "outputs": [
    {
     "name": "stdout",
     "output_type": "stream",
     "text": [
      "[101, 102, 103, 104, 108]\n"
     ]
    }
   ],
   "source": [
    "#append\n",
    "\n",
    "ids=[101,102,103,104]\n",
    "ids.append(108)\n",
    "print(ids)"
   ]
  },
  {
   "cell_type": "code",
   "execution_count": 6,
   "id": "ba739406-f0ff-438e-b200-7c1f7a578a82",
   "metadata": {},
   "outputs": [
    {
     "name": "stdout",
     "output_type": "stream",
     "text": [
      "[101, 100, 102, 103, 104]\n"
     ]
    }
   ],
   "source": [
    "#insert\n",
    "\n",
    "\n",
    "ids=[101,102,103,104]\n",
    "#     0  1   2    3\n",
    "ids.insert(1,100)\n",
    "print(ids)\n"
   ]
  },
  {
   "cell_type": "code",
   "execution_count": 8,
   "id": "cdd5fa59-53b3-4720-83db-96072e735854",
   "metadata": {},
   "outputs": [
    {
     "name": "stdout",
     "output_type": "stream",
     "text": [
      "[4, 8, 12, 16, 6, 12, 18, 24]\n"
     ]
    }
   ],
   "source": [
    "#extend\n",
    "\n",
    "\n",
    "ids1=[4,8,12,16]\n",
    "ids2=[6,12,18,24]\n",
    "ids1.extend(ids2)\n",
    "print(ids1)"
   ]
  },
  {
   "cell_type": "code",
   "execution_count": 11,
   "id": "0e832ad3-9089-412f-be2e-0f2b00c0255e",
   "metadata": {},
   "outputs": [
    {
     "name": "stdout",
     "output_type": "stream",
     "text": [
      "['animal', 'butterfly', 'dog', 'fish', 'horse', 'unicorn']\n"
     ]
    }
   ],
   "source": [
    "#sort\n",
    "\n",
    "a=[\"dog\",\"animal\",\"unicorn\",\"butterfly\",\"horse\",\"fish\"]\n",
    "a.sort()\n",
    "print(a)\n"
   ]
  },
  {
   "cell_type": "code",
   "execution_count": 20,
   "id": "0f84950e-6e04-43be-8d80-738b43078b12",
   "metadata": {},
   "outputs": [
    {
     "name": "stdout",
     "output_type": "stream",
     "text": [
      "['11', '27', '32', '45', '56', '89']\n"
     ]
    }
   ],
   "source": [
    "# sort\n",
    "\n",
    "rollnumber=[\"27\",\"89\",\"56\",\"11\",\"45\",\"32\"]\n",
    "rollnumber.sort()\n",
    "print(rollnumber)"
   ]
  },
  {
   "cell_type": "code",
   "execution_count": 19,
   "id": "c3250ce7-0ae5-4375-ad18-2134ef0e47d7",
   "metadata": {},
   "outputs": [
    {
     "name": "stdout",
     "output_type": "stream",
     "text": [
      "[1, 2, 3, 5, 6, 8, 9]\n"
     ]
    }
   ],
   "source": [
    "#sort\n",
    "\n",
    "\n",
    "rollnumber=[1,2,5,6,9,8,3]\n",
    "rollnumber.sort()\n",
    "print(rollnumber)"
   ]
  },
  {
   "cell_type": "code",
   "execution_count": null,
   "id": "ef8961fa-121d-4f98-9f35-23db153c48e6",
   "metadata": {},
   "outputs": [],
   "source": [
    "#sort\n",
    "\n",
    "\n",
    "l1=[5,78,2,50,3]\n",
    "l1.sort()\n",
    "print(l1)"
   ]
  },
  {
   "cell_type": "code",
   "execution_count": 21,
   "id": "aaaf1fd4-52c4-428c-aea9-1337e0224419",
   "metadata": {},
   "outputs": [
    {
     "name": "stdout",
     "output_type": "stream",
     "text": [
      "[3, 8, 9, 6, 5, 2, 1]\n"
     ]
    }
   ],
   "source": [
    "#reverse\n",
    "\n",
    "\n",
    "rollnumber=[1,2,5,6,9,8,3]\n",
    "rollnumber.reverse()\n",
    "print(rollnumber)\n",
    "\n"
   ]
  },
  {
   "cell_type": "code",
   "execution_count": null,
   "id": "fdee2577-81d7-4765-8f97-173203d3e7fe",
   "metadata": {},
   "outputs": [],
   "source": [
    "# sort --in descending order\n",
    "\n",
    "\n",
    "rollnumber=[1,2,5,6,9,8,3]\n",
    "rollnumber.sort(r)\n",
    "print(rollnumber)\n",
    "\n"
   ]
  }
 ],
 "metadata": {
  "kernelspec": {
   "display_name": "Python 3 (ipykernel)",
   "language": "python",
   "name": "python3"
  },
  "language_info": {
   "codemirror_mode": {
    "name": "ipython",
    "version": 3
   },
   "file_extension": ".py",
   "mimetype": "text/x-python",
   "name": "python",
   "nbconvert_exporter": "python",
   "pygments_lexer": "ipython3",
   "version": "3.12.2"
  }
 },
 "nbformat": 4,
 "nbformat_minor": 5
}
