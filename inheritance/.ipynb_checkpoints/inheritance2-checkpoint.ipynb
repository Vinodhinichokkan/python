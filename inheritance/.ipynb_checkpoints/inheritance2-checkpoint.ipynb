{
 "cells": [
  {
   "cell_type": "code",
   "execution_count": 1,
   "id": "1b76a037-b4f4-4990-bd27-e922dea553c4",
   "metadata": {},
   "outputs": [
    {
     "name": "stdout",
     "output_type": "stream",
     "text": [
      "Parent1 class m1 - instance method\n",
      "Parent2 class m2 - instance method\n",
      "Child class m3 - instance method\n"
     ]
    }
   ],
   "source": [
    "\n",
    "#multiple inheritance\n",
    "\n",
    "class Parent1:\n",
    "    def m1(self):\n",
    "        print('Parent1 class m1 - instance method') \n",
    "\n",
    "class Parent2:\n",
    "    def m2(self):\n",
    "        print('Parent2 class m2 - instance method') \n",
    " \n",
    "\n",
    "class Child(Parent1,Parent2):\n",
    "    def m3(self):\n",
    "        print('Child class m3 - instance method') \n",
    "\n",
    "\n",
    "c1=Child()\n",
    "c1.m1()\n",
    "c1.m2()\n",
    "c1.m3()"
   ]
  },
  {
   "cell_type": "code",
   "execution_count": 2,
   "id": "832aeff5-c0f2-4550-81e6-38d30adbb182",
   "metadata": {},
   "outputs": [
    {
     "name": "stdout",
     "output_type": "stream",
     "text": [
      "dad money\n"
     ]
    }
   ],
   "source": [
    "\n",
    "#hierarchical inheritance\n",
    "\n",
    "class dad():\n",
    "    def money(self):\n",
    "        print(\"dad money\")\n",
    "class son1(dad):\n",
    "    pass\n",
    "class son2(dad):\n",
    "    pass\n",
    "s2=son2()\n",
    "s2.money()"
   ]
  },
  {
   "cell_type": "code",
   "execution_count": 3,
   "id": "abced9e1-f57e-42d7-8d99-36f3d94daa39",
   "metadata": {},
   "outputs": [
    {
     "name": "stdout",
     "output_type": "stream",
     "text": [
      "dad money\n"
     ]
    }
   ],
   "source": [
    "\n",
    "#hybrid inheritance\n",
    "\n",
    "class dad():\n",
    "    def money(self):\n",
    "        print(\"dad money\")\n",
    "class land():\n",
    "    def important(self):\n",
    "        print(\"important land\")\n",
    "class son1(dad,land):\n",
    "    pass\n",
    "class son2(dad):\n",
    "    pass\n",
    "class son3(dad):\n",
    "    pass\n",
    "s2=son2()\n",
    "s2.money()\n"
   ]
  },
  {
   "cell_type": "code",
   "execution_count": null,
   "id": "9dbcec81-f9d0-4c17-90bc-104356173e36",
   "metadata": {},
   "outputs": [],
   "source": []
  }
 ],
 "metadata": {
  "kernelspec": {
   "display_name": "Python 3 (ipykernel)",
   "language": "python",
   "name": "python3"
  },
  "language_info": {
   "codemirror_mode": {
    "name": "ipython",
    "version": 3
   },
   "file_extension": ".py",
   "mimetype": "text/x-python",
   "name": "python",
   "nbconvert_exporter": "python",
   "pygments_lexer": "ipython3",
   "version": "3.12.2"
  }
 },
 "nbformat": 4,
 "nbformat_minor": 5
}
