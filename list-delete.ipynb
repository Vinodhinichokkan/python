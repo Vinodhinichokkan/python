{
 "cells": [
  {
   "cell_type": "code",
   "execution_count": 4,
   "id": "ed2cb913-c5de-4c4d-89da-95d88097bc34",
   "metadata": {},
   "outputs": [
    {
     "name": "stdout",
     "output_type": "stream",
     "text": [
      "[20, 30, 40]\n"
     ]
    }
   ],
   "source": [
    "#pop\n",
    "\n",
    "inti=[20,30,40,23]\n",
    "inti.pop() #--remove the element which is at the end position\n",
    "print(inti)"
   ]
  },
  {
   "cell_type": "code",
   "execution_count": 5,
   "id": "5310bbc8-d94a-4d5d-84a8-a703b3554fb4",
   "metadata": {},
   "outputs": [
    {
     "name": "stdout",
     "output_type": "stream",
     "text": [
      "['vino', 'abi']\n"
     ]
    }
   ],
   "source": [
    "#pop\n",
    "\n",
    "a=[\"vino\",\"abi\",\"riyaan\"]\n",
    "a.pop()\n",
    "print(a)\n"
   ]
  },
  {
   "cell_type": "code",
   "execution_count": null,
   "id": "e047b432-7d24-4c7b-b7cc-344707605ebb",
   "metadata": {},
   "outputs": [],
   "source": [
    "#clear\n",
    "\n"
   ]
  }
 ],
 "metadata": {
  "kernelspec": {
   "display_name": "Python 3 (ipykernel)",
   "language": "python",
   "name": "python3"
  },
  "language_info": {
   "codemirror_mode": {
    "name": "ipython",
    "version": 3
   },
   "file_extension": ".py",
   "mimetype": "text/x-python",
   "name": "python",
   "nbconvert_exporter": "python",
   "pygments_lexer": "ipython3",
   "version": "3.12.2"
  }
 },
 "nbformat": 4,
 "nbformat_minor": 5
}
