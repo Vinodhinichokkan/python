{
 "cells": [
  {
   "cell_type": "code",
   "execution_count": 6,
   "id": "75998077-ac7f-4ee6-8330-2179442fd92d",
   "metadata": {},
   "outputs": [
    {
     "name": "stdout",
     "output_type": "stream",
     "text": [
      "<class 'dict'>\n",
      "{'id': 101, 'name': 'vino', 'location': None}\n"
     ]
    }
   ],
   "source": [
    "emp={\n",
    "    'id':101,\n",
    "    'name':'vino',\n",
    "    'location':None\n",
    "}\n",
    "print(type(emp))\n",
    "print(emp)"
   ]
  },
  {
   "cell_type": "code",
   "execution_count": 8,
   "id": "9fbf9b84-483d-4c56-bb5f-365d52c250c1",
   "metadata": {},
   "outputs": [
    {
     "name": "stdout",
     "output_type": "stream",
     "text": [
      "{\"id\": 101, \"name\": \"vino\", \"location\": null}\n",
      "<class 'str'>\n"
     ]
    }
   ],
   "source": [
    "import json\n",
    "emp={\n",
    "    'id':101,\n",
    "    'name':'vino',\n",
    "    'location':None\n",
    "}\n",
    "emp_json=json.dumps(emp)\n",
    "print(emp_json)\n",
    "print(type(emp_json))\n",
    " \n"
   ]
  },
  {
   "cell_type": "code",
   "execution_count": 12,
   "id": "0376afe8-4b43-4157-a072-ac3895667d70",
   "metadata": {},
   "outputs": [
    {
     "name": "stdout",
     "output_type": "stream",
     "text": [
      "<class 'dict'>\n"
     ]
    }
   ],
   "source": [
    "import json\n",
    "emp_json={\"id\":101,\"name\":\"vino\",\"location\":None}\n",
    "print(type(emp_json))\n"
   ]
  },
  {
   "cell_type": "code",
   "execution_count": 15,
   "id": "948873f3-e4d1-44ba-9912-fe43bcdc9f51",
   "metadata": {},
   "outputs": [
    {
     "name": "stdout",
     "output_type": "stream",
     "text": [
      "<class 'str'>\n",
      "{'id': 101, 'name': 'Rahul', 'avail': True, 'location': None}\n",
      "<class 'dict'>\n"
     ]
    }
   ],
   "source": [
    "import json \n",
    "emp_json = '''{\"id\": 101, \"name\": \"Rahul\", \"avail\": true, \"location\": null}'''\n",
    "#convert json to python dict type\n",
    "print(type(emp_json))  # <class, str>\n",
    "emp_data=json.loads(emp_json)\n",
    "print(emp_data)\n",
    "print(type(emp_data))  # <class,dict>"
   ]
  },
  {
   "cell_type": "code",
   "execution_count": 21,
   "id": "5f92bd45-4ee6-4b21-9eec-dcac87a7dd55",
   "metadata": {},
   "outputs": [
    {
     "ename": "NameError",
     "evalue": "name 'null' is not defined",
     "output_type": "error",
     "traceback": [
      "\u001b[1;31m---------------------------------------------------------------------------\u001b[0m",
      "\u001b[1;31mNameError\u001b[0m                                 Traceback (most recent call last)",
      "Cell \u001b[1;32mIn[21], line 2\u001b[0m\n\u001b[0;32m      1\u001b[0m \u001b[38;5;28;01mimport\u001b[39;00m \u001b[38;5;21;01mjson\u001b[39;00m\n\u001b[1;32m----> 2\u001b[0m emp_json\u001b[38;5;241m=\u001b[39m{\u001b[38;5;124m\"\u001b[39m\u001b[38;5;124mid\u001b[39m\u001b[38;5;124m\"\u001b[39m:\u001b[38;5;241m101\u001b[39m,\u001b[38;5;124m\"\u001b[39m\u001b[38;5;124mname\u001b[39m\u001b[38;5;124m\"\u001b[39m:\u001b[38;5;124m\"\u001b[39m\u001b[38;5;124mvino\u001b[39m\u001b[38;5;124m\"\u001b[39m,\u001b[38;5;124m\"\u001b[39m\u001b[38;5;124mlocation\u001b[39m\u001b[38;5;124m\"\u001b[39m:\u001b[43mnull\u001b[49m}\n\u001b[0;32m      3\u001b[0m \u001b[38;5;28mprint\u001b[39m(\u001b[38;5;28mtype\u001b[39m(emp_json))\n\u001b[0;32m      4\u001b[0m emp_data\u001b[38;5;241m=\u001b[39mjson\u001b[38;5;241m.\u001b[39mloads(emp_json)\n",
      "\u001b[1;31mNameError\u001b[0m: name 'null' is not defined"
     ]
    }
   ],
   "source": [
    "import json\n",
    "emp_json={\"id\":101,\"name\":\"vino\",\"location\":null}\n",
    "print(type(emp_json))\n",
    "emp_data=json.loads(emp_json)\n",
    "print(emp_data)\n",
    "print(type(emp_data))"
   ]
  }
 ],
 "metadata": {
  "kernelspec": {
   "display_name": "Python 3 (ipykernel)",
   "language": "python",
   "name": "python3"
  },
  "language_info": {
   "codemirror_mode": {
    "name": "ipython",
    "version": 3
   },
   "file_extension": ".py",
   "mimetype": "text/x-python",
   "name": "python",
   "nbconvert_exporter": "python",
   "pygments_lexer": "ipython3",
   "version": "3.12.2"
  }
 },
 "nbformat": 4,
 "nbformat_minor": 5
}
